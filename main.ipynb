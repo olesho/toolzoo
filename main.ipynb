{
 "cells": [
  {
   "cell_type": "code",
   "execution_count": 1,
   "metadata": {},
   "outputs": [],
   "source": [
    "import os\n",
    "import getpass\n",
    "from dotenv import load_dotenv\n",
    "\n",
    "from langchain_ollama import ChatOllama\n",
    "from langchain_core.messages import HumanMessage\n",
    "\n",
    "from typing_extensions import TypedDict\n",
    "from langgraph.graph import StateGraph, START, END\n",
    "from IPython.display import Image, display\n",
    "\n",
    "from tools.polygon.news import TickerNews\n",
    "from tools.math.multiply import Multiply\n",
    "from tools.time.current import CurrentTimeTool\n",
    "\n",
    "from pydantic import BaseModel, Field\n",
    "\n",
    "\n",
    "# Load environment variables from .env file\n",
    "load_dotenv()\n",
    "\n",
    "polygon_api_key = os.getenv(\"POLYGON_API_KEY\")\n",
    "\n",
    "ticker_news = TickerNews(api_key=polygon_api_key)\n",
    "multiply = Multiply()\n",
    "current_time_in = CurrentTimeTool()\n",
    "\n",
    "llm = ChatOllama(model='llama3.2', temperature=0)\n",
    "llm_with_tools = llm.bind_tools([multiply, current_time_in, ticker_news])\n",
    "\n",
    "available_tools = { \n",
    "    \"multiply\": multiply, \n",
    "    \"current_time_in\": current_time_in, \n",
    "    \"ticker_news\": ticker_news ,\n",
    "}\n"
   ]
  },
  {
   "cell_type": "code",
   "execution_count": 2,
   "metadata": {},
   "outputs": [
    {
     "data": {
      "text/plain": [
       "<langgraph.graph.state.StateGraph at 0x109d87fd0>"
      ]
     },
     "execution_count": 2,
     "metadata": {},
     "output_type": "execute_result"
    }
   ],
   "source": [
    "\n",
    "# Graph state\n",
    "class State(TypedDict):\n",
    "    user_query: str\n",
    "    tool_calls: str\n",
    "    output: str\n",
    "\n",
    "check_field_presence_prompt = \"\"\"\n",
    "User asked this question:\n",
    "{user_query}\n",
    "\n",
    "Here is the field description:\n",
    "{field_description}\n",
    "\n",
    "Here is the field type:\n",
    "{field_type}\n",
    "\n",
    "Here is the field value:\n",
    "{field_value}\n",
    "\n",
    "You are a helpful assistant that can help me to check if the field is present in the user query. \n",
    "You will be given a user query and a field name and description.\n",
    "You need to check if the field whith specified type is present in the user query.\n",
    "\n",
    "If fields type doesn't match, you need to return False.\n",
    "If field is not present, you need to return False.\n",
    "Otherwise return True.\n",
    "\"\"\"\n",
    "\n",
    "# check_field_presence_prompt = \"\"\"\n",
    "# You are a helpful assistant that can help me to check if the field is present in the user query. \n",
    "# You will be given a user query and a field name and description.\n",
    "# You need to check if the field whith specified type is present in the user query.\n",
    "\n",
    "# If fields type doesn't match, you need to return False.\n",
    "# If field is not present, you need to return False.\n",
    "# Otherwise return True.\n",
    "\n",
    "# Here is the user query:\n",
    "# {user_query}\n",
    "\n",
    "# Here is the field name:\n",
    "# {field_name}\n",
    "\n",
    "# Here is the field type:\n",
    "# {field_type}\n",
    "\n",
    "# Here is the field value:\n",
    "# {field_value}\n",
    "\n",
    "# Here is the field description:\n",
    "# {field_description}\n",
    "# \"\"\"\n",
    "\n",
    "class CheckFieldPresence(BaseModel):\n",
    "    presence: bool = Field(None, description=\"Defines if the field is present in the file.\")\n",
    "\n",
    "# Augment the LLM with schema for structured output\n",
    "field_presence_llm = llm.with_structured_output(CheckFieldPresence)\n",
    "\n",
    "\n",
    "# Nodes\n",
    "def select_tools(state: State):\n",
    "    msg = llm_with_tools.invoke(state['user_query'])\n",
    "    return {\"tool_calls\": msg.tool_calls}\n",
    "\n",
    "def validate_tool_inputs(state: State):\n",
    "    tool_calls = state['tool_calls']\n",
    "    new_tool_calls = []\n",
    "    for tool_call in tool_calls:\n",
    "        new_tool_call = tool_call.copy()\n",
    "        new_tool_call['arg_validation_msgs'] = {}\n",
    "        for key, value in new_tool_call['args'].items():\n",
    "            \n",
    "            q = check_field_presence_prompt.format(\n",
    "                user_query=state['user_query'],\n",
    "                field_name=key,\n",
    "                field_value=value,\n",
    "                field_type=available_tools[new_tool_call['name']].args[key]['type'],\n",
    "                field_description=available_tools[new_tool_call['name']].args[key]['description']\n",
    "            )\n",
    "            # print(\"Validating tool call\", q)\n",
    "            # print(\"--------------------------------\")\n",
    "            field_presence_result = field_presence_llm.invoke(q)\n",
    "            \n",
    "            # TODO: add validation result to the tool call\n",
    "            # new_tool_call['arg_validation_msgs'][key] = field_presence_result.presence\n",
    "            new_tool_call['arg_validation_msgs'][key] = True\n",
    "\n",
    "        new_tool_calls.append(new_tool_call)\n",
    "\n",
    "    return {\"tool_calls\": new_tool_calls}\n",
    "\n",
    "def execute_tool_call(state: State):\n",
    "\n",
    "    messages = [HumanMessage(state['user_query'])]\n",
    "    ai_msg = llm_with_tools.invoke(messages)\n",
    "    messages.append(ai_msg)\n",
    "\n",
    "    for tool_call in ai_msg.tool_calls:\n",
    "        selected_tool = { \n",
    "            \"multiply\": multiply, \n",
    "            \"current_time_in\": current_time_in, \n",
    "            \"ticker_news\": ticker_news }[tool_call['name'].lower()]\n",
    "        \n",
    "        # print(\"EXPECTED TOOL CALL\",  state['tool_calls'])\n",
    "\n",
    "        tool_msg = selected_tool.invoke(tool_call)\n",
    "        messages.append(tool_msg)\n",
    "\n",
    "    result_msg = llm_with_tools.invoke(messages)\n",
    "\n",
    "    return {\"output\": result_msg.content}\n",
    "\n",
    "workflow = StateGraph(State)\n",
    "workflow.add_node(\"select_tools\", select_tools)\n",
    "workflow.add_edge(START, \"select_tools\")\n",
    "\n",
    "workflow.add_node(\"validate_tool_inputs\", validate_tool_inputs)\n",
    "workflow.add_edge(\"select_tools\", \"validate_tool_inputs\")\n",
    "\n",
    "workflow.add_node(\"execute_tool_call\", execute_tool_call)\n",
    "workflow.add_edge(\"validate_tool_inputs\", \"execute_tool_call\")\n",
    "\n",
    "workflow.add_edge(\"execute_tool_call\", END)"
   ]
  },
  {
   "cell_type": "code",
   "execution_count": 3,
   "metadata": {},
   "outputs": [
    {
     "data": {
      "image/png": "[encoded data removed]",
      "text/plain": [
       "<IPython.core.display.Image object>"
      ]
     },
     "metadata": {},
     "output_type": "display_data"
    },
    {
     "name": "stdout",
     "output_type": "stream",
     "text": [
      "TOOL CALL: Getting news for AMZN\n",
      "TOOL RESPONSE: b'{\"results\":{\"name\":\"Amazon.Com Inc\",\"composite_figi\":\"BBG000BVPV84\",\"cik\":\"0001018724\",\"events\":[{\"ticker_change\":{\"ticker\":\"AMZN\"},\"type\":\"ticker_change\",\"date\":\"2003-09-10\"}]},\"status\":\"OK\",\"request_id\":\"afb3eed84d08e825b3f748f618b3d8a5\"}'\n",
      "GOT RESULT Here's the formatted answer to your original user question:\n",
      "\n",
      "\"News for AMZN ticker:\n",
      "\n",
      "Amazon.com Inc. is a technology company that was founded in 1994 by Jeff Bezos. The company is known for its e-commerce platform, cloud computing services, and artificial intelligence technologies.\n",
      "\n",
      "As of September 10, 2003, Amazon's ticker symbol changed to BBG000BVPV84. The company has since become one of the world's largest and most influential technology companies, with a market capitalization of over $1 trillion.\"\n"
     ]
    }
   ],
   "source": [
    "chain = workflow.compile()\n",
    "\n",
    "display(Image(chain.get_graph().draw_mermaid_png()))\n",
    "state = chain.invoke({\"user_query\": \"Can you help me to get news for AMZN ticker?\"})\n",
    "# state = chain.invoke({\"user_query\": \"What is 2 multiplied by 3? Also could you help me to calculate multiplication for 34 by 12?\"})\n"
   ]
  },
  {
   "cell_type": "code",
   "execution_count": 6,
   "metadata": {},
   "outputs": [
    {
     "name": "stdout",
     "output_type": "stream",
     "text": [
      "Here's the formatted answer to your original user question:\n",
      "\n",
      "\"News for AMZN ticker:\n",
      "\n",
      "Amazon.com Inc. is a technology company that was founded in 1994 by Jeff Bezos. The company is known for its e-commerce platform, cloud computing services, and artificial intelligence technologies.\n",
      "\n",
      "As of September 10, 2003, Amazon's ticker symbol changed to BBG000BVPV84. The company has since become one of the world's largest and most influential technology companies, with a market capitalization of over $1 trillion.\"\n"
     ]
    }
   ],
   "source": [
    "print(state['output'])"
   ]
  }
 ],
 "metadata": {
  "kernelspec": {
   "display_name": "toolzoo",
   "language": "python",
   "name": "python3"
  },
  "language_info": {
   "codemirror_mode": {
    "name": "ipython",
    "version": 3
   },
   "file_extension": ".py",
   "mimetype": "text/x-python",
   "name": "python",
   "nbconvert_exporter": "python",
   "pygments_lexer": "ipython3",
   "version": "3.11.11"
  }
 },
 "nbformat": 4,
 "nbformat_minor": 2
}
